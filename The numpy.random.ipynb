{
 "cells": [
  {
   "cell_type": "markdown",
   "metadata": {},
   "source": [
    "# The numpy.random package in Python\n",
    "   This Jupyter notebook will explain what **numpy.random** package is and what is the purpuse of it.\n",
    "   "
   ]
  },
  {
   "cell_type": "markdown",
   "metadata": {},
   "source": [
    "**_NumPy_** is a library in python which helps user to work with array and matrices. NumPy is the fundamental package needed for scientific computing with Python. To install the library it is needed to type the following code in cmd: \n",
    "\n",
    "> pip install numpy\n",
    "\n",
    "it's also one of pre-built packages to Anaconda environment. Anaconda distribution of Python is the best option for problem solvers who want to use Python. Anaconda comes bundled with about 600 packages pre-installed including **_NumPy_**, Matplotlib and SymPy.\n",
    "\n",
    "**_random_** It’s a built-in library of python which can be used to generate random points.\n",
    "\n",
    "**numpy.random** lets user generate random numbers or random values in a sequence. Output will be different everytime as it returns a random item.\n",
    "\n",
    "Python uses _numpy.random_ to generate or manipulate random numbers. This particular type of functions are used in a lot of games, lotteries or any application requiring random number generation. "
   ]
  },
  {
   "cell_type": "markdown",
   "metadata": {},
   "source": [
    "**numpy.random** is broken down into 4 sections:\n",
    "\n",
    "1. _Simple random data_\n",
    "2. _Permutations_\n",
    "3. _Distributions_\n",
    "4. _Random generator_"
   ]
  },
  {
   "cell_type": "markdown",
   "metadata": {},
   "source": [
    "=============================================================================================================="
   ]
  },
  {
   "cell_type": "markdown",
   "metadata": {},
   "source": [
    "## Simple random data"
   ]
  },
  {
   "cell_type": "markdown",
   "metadata": {},
   "source": [
    "I will try to explain the use of _Simple random data_ on examples below."
   ]
  },
  {
   "cell_type": "markdown",
   "metadata": {},
   "source": [
    "First, I need to import *numpy*. It is a library for the Python programming language. which supports adding for large, multi-dimensional arrays and matrices, along with a large collection of high-level mathematical functions to operate on these arrays."
   ]
  },
  {
   "cell_type": "code",
   "execution_count": 4,
   "metadata": {},
   "outputs": [],
   "source": [
    "import numpy as np"
   ]
  },
  {
   "cell_type": "markdown",
   "metadata": {},
   "source": [
    "**random.rand** prints an array of random numbers. It creates an array of specified shape (rows and columns) and fills it with random values:"
   ]
  },
  {
   "cell_type": "code",
   "execution_count": 5,
   "metadata": {},
   "outputs": [
    {
     "data": {
      "text/plain": [
       "array([[0.42716912, 0.58060125],\n",
       "       [0.98644657, 0.73329543],\n",
       "       [0.08102838, 0.563041  ]])"
      ]
     },
     "execution_count": 5,
     "metadata": {},
     "output_type": "execute_result"
    }
   ],
   "source": [
    "np.random.rand(3,2)"
   ]
  },
  {
   "cell_type": "markdown",
   "metadata": {},
   "source": [
    "There are 3 rows and 2 columns in this array.\n",
    "random.rand gives numbers between [0,1)"
   ]
  },
  {
   "cell_type": "code",
   "execution_count": 53,
   "metadata": {},
   "outputs": [
    {
     "data": {
      "text/plain": [
       "([array([0., 0., 0., 0., 0., 1., 1., 0., 0., 1.]),\n",
       "  array([2., 0., 0., 0., 0., 0., 0., 1., 0., 0.])],\n",
       " array([0.06533915, 0.14854691, 0.23175466, 0.31496242, 0.39817018,\n",
       "        0.48137794, 0.56458569, 0.64779345, 0.73100121, 0.81420896,\n",
       "        0.89741672]),\n",
       " <a list of 2 Lists of Patches objects>)"
      ]
     },
     "execution_count": 53,
     "metadata": {},
     "output_type": "execute_result"
    },
    {
     "data": {
      "image/png": "[encoded data removed]",
      "text/plain": [
       "<Figure size 432x288 with 1 Axes>"
      ]
     },
     "metadata": {
      "needs_background": "light"
     },
     "output_type": "display_data"
    }
   ],
   "source": [
    "x=np.random.rand(3, 2)\n",
    "import matplotlib.pyplot as plt\n",
    "plt.hist(x)"
   ]
  },
  {
   "cell_type": "code",
   "execution_count": 33,
   "metadata": {},
   "outputs": [
    {
     "data": {
      "text/plain": [
       "0.5132189528979849"
      ]
     },
     "execution_count": 33,
     "metadata": {},
     "output_type": "execute_result"
    }
   ],
   "source": [
    "np.random.rand()"
   ]
  },
  {
   "cell_type": "markdown",
   "metadata": {},
   "source": [
    "Negative dimensions are not allowed. \n",
    "\n",
    "If no argument is given a single Python float is returned.\n"
   ]
  },
  {
   "cell_type": "code",
   "execution_count": 5,
   "metadata": {},
   "outputs": [
    {
     "data": {
      "text/plain": [
       "array([[0.81169786, 0.46882967, 0.73006002],\n",
       "       [0.23671699, 0.98553805, 0.57069323]])"
      ]
     },
     "execution_count": 5,
     "metadata": {},
     "output_type": "execute_result"
    }
   ],
   "source": [
    "np.random.rand(6).reshape((2, 3))"
   ]
  },
  {
   "cell_type": "markdown",
   "metadata": {},
   "source": [
    "**random.randn** creates an array of specified shape and fills it with random values as per standard normal distribution."
   ]
  },
  {
   "cell_type": "code",
   "execution_count": 14,
   "metadata": {},
   "outputs": [
    {
     "data": {
      "text/plain": [
       "array([], shape=(0, 1), dtype=float64)"
      ]
     },
     "execution_count": 14,
     "metadata": {},
     "output_type": "execute_result"
    }
   ],
   "source": [
    "np.random.randn(0, 1)"
   ]
  },
  {
   "cell_type": "code",
   "execution_count": 17,
   "metadata": {},
   "outputs": [
    {
     "data": {
      "text/plain": [
       "array([[-0.79152294, -0.69335496]])"
      ]
     },
     "execution_count": 17,
     "metadata": {},
     "output_type": "execute_result"
    }
   ],
   "source": [
    "np.random.randn(1,2)"
   ]
  },
  {
   "cell_type": "code",
   "execution_count": 5,
   "metadata": {},
   "outputs": [
    {
     "data": {
      "text/plain": [
       "([array([0., 0., 0., 0., 0., 0., 0., 0., 0., 1.]),\n",
       "  array([1., 0., 0., 0., 0., 0., 0., 0., 0., 0.])],\n",
       " array([-0.07839055, -0.04151895, -0.00464734,  0.03222427,  0.06909587,\n",
       "         0.10596748,  0.14283909,  0.1797107 ,  0.2165823 ,  0.25345391,\n",
       "         0.29032552]),\n",
       " <a list of 2 Lists of Patches objects>)"
      ]
     },
     "execution_count": 5,
     "metadata": {},
     "output_type": "execute_result"
    },
    {
     "data": {
      "image/png": "[encoded data removed]",
      "text/plain": [
       "<Figure size 432x288 with 1 Axes>"
      ]
     },
     "metadata": {
      "needs_background": "light"
     },
     "output_type": "display_data"
    }
   ],
   "source": [
    "import numpy as np\n",
    "import matplotlib.pyplot as plt\n",
    "x = np.random.randn(1, 2)\n",
    "plt.hist(x)"
   ]
  },
  {
   "cell_type": "markdown",
   "metadata": {},
   "source": [
    "**random.randint** generates a random integer number from the range:"
   ]
  },
  {
   "cell_type": "code",
   "execution_count": 56,
   "metadata": {},
   "outputs": [
    {
     "data": {
      "text/plain": [
       "47"
      ]
     },
     "execution_count": 56,
     "metadata": {},
     "output_type": "execute_result"
    }
   ],
   "source": [
    "np.random.randint(45, 55)"
   ]
  },
  {
   "cell_type": "markdown",
   "metadata": {},
   "source": [
    "**random.random** generates a random number from the range [0, 1]"
   ]
  },
  {
   "cell_type": "code",
   "execution_count": 9,
   "metadata": {},
   "outputs": [
    {
     "data": {
      "text/plain": [
       "0.24672491961166976"
      ]
     },
     "execution_count": 9,
     "metadata": {},
     "output_type": "execute_result"
    }
   ],
   "source": [
    "np.random.random()"
   ]
  },
  {
   "cell_type": "markdown",
   "metadata": {},
   "source": [
    "**random.choice** expects one argument or sequence from which a random value will be returned"
   ]
  },
  {
   "cell_type": "code",
   "execution_count": 21,
   "metadata": {},
   "outputs": [
    {
     "data": {
      "text/plain": [
       "'Aine'"
      ]
     },
     "execution_count": 21,
     "metadata": {},
     "output_type": "execute_result"
    }
   ],
   "source": [
    "np.random.choice( [\"John\", \"Aine\", \"Sheila\"])"
   ]
  },
  {
   "cell_type": "markdown",
   "metadata": {},
   "source": [
    "It also generates a uniform random sample from np.arange(5) of size 9:"
   ]
  },
  {
   "cell_type": "code",
   "execution_count": 31,
   "metadata": {},
   "outputs": [
    {
     "data": {
      "text/plain": [
       "array([1, 4, 1, 4, 2, 1, 1, 4, 0])"
      ]
     },
     "execution_count": 31,
     "metadata": {},
     "output_type": "execute_result"
    }
   ],
   "source": [
    "np.random.choice( 5, 9)"
   ]
  },
  {
   "cell_type": "code",
   "execution_count": 29,
   "metadata": {},
   "outputs": [
    {
     "data": {
      "text/plain": [
       "array([0.76355245, 0.04955676])"
      ]
     },
     "execution_count": 29,
     "metadata": {},
     "output_type": "execute_result"
    }
   ],
   "source": [
    "np.random.sample(2)"
   ]
  },
  {
   "cell_type": "markdown",
   "metadata": {},
   "source": [
    "**'float'** object cannot be interpreted as an integer"
   ]
  },
  {
   "cell_type": "code",
   "execution_count": 54,
   "metadata": {},
   "outputs": [
    {
     "name": "stdout",
     "output_type": "stream",
     "text": [
      "And the numbers are: [3, 5, 6]\n"
     ]
    }
   ],
   "source": [
    "import random \n",
    "n = [0, 1, 2, 3, 4, 5, 6]  \n",
    "print(\"And the numbers are:\", random.sample(n, 3)) "
   ]
  },
  {
   "cell_type": "markdown",
   "metadata": {},
   "source": [
    "**random.sample** prints a list of random items of length 3 from the given list.\n",
    "It returns a particular length list of items chosen from the sequence i.e. list, tuple, string or set. Used for random sampling without replacement."
   ]
  },
  {
   "cell_type": "code",
   "execution_count": 55,
   "metadata": {},
   "outputs": [
    {
     "name": "stdout",
     "output_type": "stream",
     "text": [
      "And the letters are: ['r', 'e', 'e', 'f']\n"
     ]
    }
   ],
   "source": [
    "string = \"GeeksforGeeks\"\n",
    "print(\"And the letters are:\", random.sample(string, 4)) "
   ]
  },
  {
   "cell_type": "markdown",
   "metadata": {},
   "source": [
    "Here, random prints a list of random items of length 4 from the given string."
   ]
  },
  {
   "cell_type": "markdown",
   "metadata": {},
   "source": [
    "## Permutations"
   ]
  },
  {
   "cell_type": "markdown",
   "metadata": {},
   "source": [
    "**Permutation()** is the different arrangement of a given number of elements taken one by one, or some, or all at a time. \n",
    "\n",
    "For example, if we have two elements A(1) and B(2), then there are two possible arrangements, AB (1,2) and BA (2,1).\n",
    "\n",
    "First, import _itertools_ package to implement permutations method in python. This method takes a list as an input and return an object list of tuples that contain all permutation in a list form."
   ]
  },
  {
   "cell_type": "code",
   "execution_count": 45,
   "metadata": {},
   "outputs": [
    {
     "name": "stdout",
     "output_type": "stream",
     "text": [
      "(1, 2)\n",
      "(2, 1)\n"
     ]
    }
   ],
   "source": [
    "from itertools import permutations \n",
    "perm = permutations([1, 2])\n",
    "for i in list(perm): \n",
    "    print(i) "
   ]
  },
  {
   "cell_type": "markdown",
   "metadata": {},
   "source": [
    "It generates n! permutations if length of input sequence is n."
   ]
  },
  {
   "cell_type": "markdown",
   "metadata": {},
   "source": [
    "**shuffle()** This function is used to shuffle the entire list to randomly arrange them."
   ]
  },
  {
   "cell_type": "code",
   "execution_count": 47,
   "metadata": {},
   "outputs": [
    {
     "name": "stdout",
     "output_type": "stream",
     "text": [
      "The original list is : [6, 8, 12, 1, 19, 15, 3]\n",
      "The shuffled list is : [3, 6, 1, 19, 12, 15, 8]\n"
     ]
    }
   ],
   "source": [
    "import random \n",
    "list = [6, 8, 12, 1, 19, 15, 3]   \n",
    "print (\"The original list is : \" + str(list)) \n",
    "random.shuffle(list) \n",
    "print (\"The shuffled list is : \" +  str(list)) "
   ]
  },
  {
   "cell_type": "markdown",
   "metadata": {},
   "source": [
    "## Distributions"
   ]
  },
  {
   "cell_type": "markdown",
   "metadata": {},
   "source": [
    "**numpy.random.chisquare**(df, size=None). This distribution is often used in hypothesis testing and to a lesser extent for confidence intervals for population variance when the underlying distribution is normal.\n",
    "\n",
    "**_df_** : float or array_like of floats\n",
    "     Number of degrees of freedom, should be > 0.\n",
    "     \n",
    "**_size_** : int or tuple of ints, optional\n",
    "  "
   ]
  },
  {
   "cell_type": "code",
   "execution_count": 5,
   "metadata": {},
   "outputs": [
    {
     "data": {
      "text/plain": [
       "array([0.351781])"
      ]
     },
     "execution_count": 5,
     "metadata": {},
     "output_type": "execute_result"
    }
   ],
   "source": [
    "np.random.chisquare(2,1)"
   ]
  },
  {
   "cell_type": "code",
   "execution_count": 6,
   "metadata": {},
   "outputs": [
    {
     "data": {
      "text/plain": [
       "array([0.68020725, 0.12845695, 0.6937165 , 1.40261378, 0.1393888 ])"
      ]
     },
     "execution_count": 6,
     "metadata": {},
     "output_type": "execute_result"
    }
   ],
   "source": [
    "np.random.chisquare(2,5)"
   ]
  },
  {
   "cell_type": "code",
   "execution_count": 19,
   "metadata": {},
   "outputs": [
    {
     "data": {
      "image/png": "[encoded data removed]",
      "text/plain": [
       "<Figure size 432x288 with 1 Axes>"
      ]
     },
     "metadata": {
      "needs_background": "light"
     },
     "output_type": "display_data"
    }
   ],
   "source": [
    "x= np.random.chisquare(2,5)\n",
    "plt.hist(x)\n",
    "plt.show()"
   ]
  },
  {
   "cell_type": "markdown",
   "metadata": {},
   "source": [
    "**numpy.random.uniform** This function is used to generate a floating point random number between the numbers mentioned in its arguments. It takes two arguments, lower limit(included in generation) and upper limit(not included in generation)."
   ]
  },
  {
   "cell_type": "code",
   "execution_count": 13,
   "metadata": {},
   "outputs": [
    {
     "data": {
      "text/plain": [
       "array([[0.52083568, 0.40262166, 0.0124138 , 0.34165943, 0.39741781,\n",
       "        0.63410682, 0.42940787, 0.76404964, 0.03942867, 0.96818983],\n",
       "       [0.4605537 , 0.09410768, 0.57517439, 0.45662516, 0.63079393,\n",
       "        0.09720755, 0.98581939, 0.109654  , 0.75577188, 0.81415294],\n",
       "       [0.85142216, 0.10562232, 0.34558427, 0.83862257, 0.15860619,\n",
       "        0.6265756 , 0.04870217, 0.85368536, 0.31725364, 0.83760113],\n",
       "       [0.49729301, 0.84597398, 0.05199535, 0.54154376, 0.3171445 ,\n",
       "        0.12622159, 0.08195769, 0.58857244, 0.29746131, 0.92822494],\n",
       "       [0.74621237, 0.53620356, 0.81049756, 0.55868481, 0.62007994,\n",
       "        0.33706689, 0.8138489 , 0.62848553, 0.93934396, 0.51288098]])"
      ]
     },
     "execution_count": 13,
     "metadata": {},
     "output_type": "execute_result"
    }
   ],
   "source": [
    "import random\n",
    "np.random.rand(5, 10)"
   ]
  },
  {
   "cell_type": "code",
   "execution_count": 16,
   "metadata": {},
   "outputs": [
    {
     "data": {
      "text/plain": [
       "9.383043028117957"
      ]
     },
     "execution_count": 16,
     "metadata": {},
     "output_type": "execute_result"
    }
   ],
   "source": [
    "import random\n",
    "np.random.uniform(5,10)"
   ]
  },
  {
   "cell_type": "markdown",
   "metadata": {},
   "source": [
    "**uniform()** generates random floating number in range between 5 and 10 "
   ]
  },
  {
   "cell_type": "code",
   "execution_count": 15,
   "metadata": {},
   "outputs": [
    {
     "data": {
      "text/plain": [
       "array([5.6455716 , 9.13052958, 8.32698056, 9.99801019, 6.9054417 ,\n",
       "       9.71133174, 6.56056583, 7.71406136, 5.41246853, 7.31752186])"
      ]
     },
     "execution_count": 15,
     "metadata": {},
     "output_type": "execute_result"
    }
   ],
   "source": [
    "import random\n",
    "np.random.uniform(5,10,10)"
   ]
  },
  {
   "cell_type": "markdown",
   "metadata": {},
   "source": [
    "It gives numbers between 5 and 10 and there is 10 numbers."
   ]
  },
  {
   "cell_type": "code",
   "execution_count": 18,
   "metadata": {},
   "outputs": [
    {
     "data": {
      "image/png": "[encoded data removed]",
      "text/plain": [
       "<Figure size 432x288 with 1 Axes>"
      ]
     },
     "metadata": {
      "needs_background": "light"
     },
     "output_type": "display_data"
    }
   ],
   "source": [
    "x = np.random.uniform(5, 10, 10)\n",
    "plt.hist(x)\n",
    "plt.show()"
   ]
  },
  {
   "cell_type": "code",
   "execution_count": null,
   "metadata": {},
   "outputs": [],
   "source": []
  },
  {
   "cell_type": "code",
   "execution_count": null,
   "metadata": {},
   "outputs": [],
   "source": []
  },
  {
   "cell_type": "code",
   "execution_count": null,
   "metadata": {},
   "outputs": [],
   "source": []
  },
  {
   "cell_type": "markdown",
   "metadata": {},
   "source": [
    "# Seeds"
   ]
  },
  {
   "cell_type": "markdown",
   "metadata": {},
   "source": [
    "**_Seeds_** are used to initialize and generate the pseudorandom numbers in Python.\n",
    "The random module uses the seed value as a base to generate a random number. \n",
    "If seed value is not present, it takes a system current time.\n",
    "\n",
    "**_random()_** function generates numbers for some values. This value is also called seed value.\n",
    "\n",
    "**_seed()_** function of a random module initializes the pseudo-random number generator to generate the deterministic random data user wants.\n",
    "The seed value is very significant in the field of computer security to pseudo-randomly generate a strong secret encryption key. So using a custom seed value, we can initialize the strong pseudo-random number generator the way we want."
   ]
  },
  {
   "cell_type": "code",
   "execution_count": 11,
   "metadata": {},
   "outputs": [
    {
     "name": "stdout",
     "output_type": "stream",
     "text": [
      "Random number with seed 6  0.793340083761663\n",
      "Random number with seed 6  0.793340083761663\n"
     ]
    }
   ],
   "source": [
    "import random\n",
    "random.seed(6)\n",
    "print(\"Random number with seed 6 \",random.random())\n",
    "\n",
    "random.seed(6) \n",
    "print(\"Random number with seed 6 \",random.random())"
   ]
  },
  {
   "cell_type": "markdown",
   "metadata": {},
   "source": [
    "If the pseudo-random number generator **_random.seed()_** is not initialized, internally random generator call the seed function and use current system time value as the seed value. That’s why whenever we execute **_random.random()_** we always get a different value. \n",
    "\n",
    "Example:"
   ]
  },
  {
   "cell_type": "code",
   "execution_count": 12,
   "metadata": {},
   "outputs": [
    {
     "name": "stdout",
     "output_type": "stream",
     "text": [
      "Random number with the curent system time seed   0.8219540423197268\n",
      "Random number with the curent system time seed   0.4850346279309453\n"
     ]
    }
   ],
   "source": [
    "import random\n",
    "\n",
    "print(\"Random number with the curent system time seed  \",random.random())\n",
    "\n",
    "\n",
    "print(\"Random number with the curent system time seed  \",random.random())"
   ]
  },
  {
   "cell_type": "markdown",
   "metadata": {},
   "source": [
    "If the user wants to generate the same number every time, he/she needs to pass the same seed value every time before calling any other random module function. "
   ]
  },
  {
   "cell_type": "code",
   "execution_count": 15,
   "metadata": {},
   "outputs": [
    {
     "name": "stdout",
     "output_type": "stream",
     "text": [
      "Random number with seed 5\n",
      "first -  8\n",
      "Second -  8\n",
      "Third -  8\n"
     ]
    }
   ],
   "source": [
    "import random\n",
    "\n",
    "print (\"Random number with seed 5\")\n",
    "random.seed( 5 )\n",
    "print (\"first - \", random.randint(4, 10))\n",
    "\n",
    "random.seed( 5 )\n",
    "print (\"Second - \", random.randint(4, 10))\n",
    "\n",
    "random.seed( 5 )\n",
    "print (\"Third - \", random.randint(4, 10))"
   ]
  },
  {
   "cell_type": "markdown",
   "metadata": {},
   "source": [
    "All used the same random number as I used generator **_random.seed()_**.\n",
    "\n",
    "I got the same number as a result because I passed the same seed value every time before calling **_random.randint()_**."
   ]
  },
  {
   "cell_type": "code",
   "execution_count": 18,
   "metadata": {},
   "outputs": [
    {
     "name": "stdout",
     "output_type": "stream",
     "text": [
      "Random number with seed 5\n",
      "first -  8\n",
      "Second -  6\n",
      "Third -  8\n"
     ]
    }
   ],
   "source": [
    "import random\n",
    "\n",
    "print (\"Random number with seed 5\")\n",
    "random.seed( 5 ) \n",
    "print (\"first - \", random.randint(4, 10))\n",
    "\n",
    "print (\"Second - \", random.randint(4, 10))\n",
    "\n",
    "random.seed( 5 ) \n",
    "print (\"Third - \", random.randint(4, 10))"
   ]
  },
  {
   "cell_type": "markdown",
   "metadata": {},
   "source": [
    "I got a different number in the second place because I executed **_random.randint()_** twice before calling  **_random.seed()_**. The third used the same random number as first one and it used the same seed value."
   ]
  },
  {
   "cell_type": "markdown",
   "metadata": {},
   "source": [
    "**_random.seed()_** with range"
   ]
  },
  {
   "cell_type": "code",
   "execution_count": 19,
   "metadata": {},
   "outputs": [
    {
     "name": "stdout",
     "output_type": "stream",
     "text": [
      "first random number between given range -  87\n",
      "Second random number between given range -  87\n",
      "Third random number between given range -  87\n"
     ]
    }
   ],
   "source": [
    "random.seed(100)\n",
    "print (\"first random number between given range - \", random.randrange(50, 200))\n",
    "\n",
    "random.seed(100)\n",
    "print (\"Second random number between given range - \", random.randrange(50, 200))\n",
    "\n",
    "random.seed(100)\n",
    "print (\"Third random number between given range - \", random.randrange(50, 200))"
   ]
  },
  {
   "cell_type": "markdown",
   "metadata": {},
   "source": [
    "The **_seed()_** function prints the same random number between the given range.\n",
    "\n"
   ]
  },
  {
   "cell_type": "code",
   "execution_count": 44,
   "metadata": {},
   "outputs": [
    {
     "name": "stdout",
     "output_type": "stream",
     "text": [
      "113\n",
      "907\n",
      "28\n",
      "205\n",
      "42\n"
     ]
    }
   ],
   "source": [
    "import random  \n",
    "for i in range(5): \n",
    "  \n",
    "    random.seed() \n",
    "  \n",
    "    print(random.randint(1, 1000)) "
   ]
  },
  {
   "cell_type": "markdown",
   "metadata": {},
   "source": [
    "Generated random number is between 1 and 1000 and because **_random.seed()_** has no number between brackets all generated numbers are different (output)."
   ]
  },
  {
   "cell_type": "code",
   "execution_count": 43,
   "metadata": {},
   "outputs": [
    {
     "name": "stdout",
     "output_type": "stream",
     "text": [
      "586\n",
      "586\n",
      "586\n",
      "586\n",
      "586\n"
     ]
    }
   ],
   "source": [
    "import random  \n",
    "for i in range(5): \n",
    "  \n",
    "    random.seed(10) \n",
    "   \n",
    "    print(random.randint(1, 1000)) "
   ]
  },
  {
   "cell_type": "markdown",
   "metadata": {},
   "source": [
    "As abowe generated random number is between 1 and 1000 but **_random.seed()_** has '10' between brackets and all numbers are the same (output). Any number can be used in place of '10'. "
   ]
  },
  {
   "cell_type": "markdown",
   "metadata": {},
   "source": [
    "It is possible to use **_random.seed()_** and **_random.sample()_** together and make a list of strings. Sample function can generate multiple random items from the list and other sequence types."
   ]
  },
  {
   "cell_type": "code",
   "execution_count": 37,
   "metadata": {},
   "outputs": [
    {
     "name": "stdout",
     "output_type": "stream",
     "text": [
      "First manager list is: ['Mike', 'Denis', 'Raymond']\n",
      "Second manager list is: ['Denis', 'Volter', 'Raymond', 'John', 'Mike']\n",
      "Third manager list is: ['Sharon', 'John']\n"
     ]
    }
   ],
   "source": [
    "import random\n",
    "\n",
    "manager_list = [\"John\", \"Mike\", \"Volter\", \"Nikola\", \"Denis\", \"Raymond\", \"Sharon\"]\n",
    "\n",
    "random.seed(3)\n",
    "sample_list = random.sample(manager_list, 3)\n",
    "print(\"First manager list is:\", sample_list)\n",
    "\n",
    "random.seed(5)\n",
    "sample_list = random.sample(manager_list, 5)\n",
    "print(\"Second manager list is:\", sample_list)\n",
    "\n",
    "random.seed(2)\n",
    "sample_list = random.sample(manager_list, 2)\n",
    "print(\"Third manager list is:\", sample_list)"
   ]
  },
  {
   "cell_type": "markdown",
   "metadata": {},
   "source": [
    "**_The seed_** and **_random.shuffle()_** function can be used together. \n",
    "The primary purpose of using seed and shuffle function together is to produce the same result every time after each shuffle."
   ]
  },
  {
   "cell_type": "code",
   "execution_count": 38,
   "metadata": {},
   "outputs": [
    {
     "name": "stdout",
     "output_type": "stream",
     "text": [
      "Original list:  [1, 2, 3, 4, 5, 6]\n",
      "reshuffled list  [4, 6, 5, 1, 3, 2]\n",
      "reshuffled list  [4, 6, 5, 1, 3, 2]\n"
     ]
    }
   ],
   "source": [
    "import random\n",
    "\n",
    "numbers = [1,2,3,4,5,6]\n",
    "print (\"Original list: \", numbers )\n",
    "random.seed(4)\n",
    "random.shuffle(numbers)\n",
    "print(\"reshuffled list \", numbers)\n",
    "\n",
    "numbers = [1,2,3,4,5,6]\n",
    "random.seed(4)\n",
    "random.shuffle(numbers)\n",
    "print(\"reshuffled list \", numbers)"
   ]
  },
  {
   "cell_type": "markdown",
   "metadata": {},
   "source": [
    "Seeds are used in generation of pseudo-random **encryption key**. Encryption keys are important part of computer **security**. These are the kind of secret keys which used to protect data from unauthorized access over internet.\n",
    "It makes optimization of codes easy where random numbers are used for testing. Also seed function is used to generate same random numbers again and again and simplifies algorithm testing process."
   ]
  },
  {
   "cell_type": "code",
   "execution_count": null,
   "metadata": {},
   "outputs": [],
   "source": []
  }
 ],
 "metadata": {
  "kernelspec": {
   "display_name": "Python 3",
   "language": "python",
   "name": "python3"
  },
  "language_info": {
   "codemirror_mode": {
    "name": "ipython",
    "version": 3
   },
   "file_extension": ".py",
   "mimetype": "text/x-python",
   "name": "python",
   "nbconvert_exporter": "python",
   "pygments_lexer": "ipython3",
   "version": "3.7.1"
  }
 },
 "nbformat": 4,
 "nbformat_minor": 2
}
